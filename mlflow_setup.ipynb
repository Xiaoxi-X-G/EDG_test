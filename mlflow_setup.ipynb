{
 "cells": [
  {
   "cell_type": "code",
   "execution_count": 9,
   "id": "248bc9cc-8ec4-4e6a-88b9-970f052a75cf",
   "metadata": {},
   "outputs": [
    {
     "name": "stdout",
     "output_type": "stream",
     "text": [
      "/Users/xiaoxi/Documents/self/cv/to_recruter/dhwanne/Endeavour_group/interview/EDG_test\n"
     ]
    }
   ],
   "source": [
    "import sys\n",
    "import mlflow\n",
    "\n",
    "import os\n",
    "from os.path import dirname, realpath\n",
    "\n",
    "\n",
    "!pwd"
   ]
  },
  {
   "cell_type": "code",
   "execution_count": 10,
   "id": "cc16dba7-293e-4f7f-a85e-7054123898e1",
   "metadata": {},
   "outputs": [],
   "source": [
    "# dir_root = dirname(dirname(realpath(__file__)))\n",
    "\n",
    "\n",
    "dir_root = \"/Users/xiaoxi/Documents/self/cv/to_recruter/dhwanne/Endeavour_group/interview/EDG_test\""
   ]
  },
  {
   "cell_type": "code",
   "execution_count": 11,
   "id": "8154dfa7-ca4c-47c0-801a-0a01ea1738fa",
   "metadata": {},
   "outputs": [],
   "source": [
    "dir_raw_data = dir_root+'/data/raw/'\n",
    "dir_data = dir_root+'/data/'\n",
    "mlrun_artifacts = dir_root+ '/mlrun/mlrun_artifacts'\n",
    "mlrun_db = \"sqlite:///\"+dir_root+ '/mlrun/mlrun_db/mldb.sqlite'"
   ]
  },
  {
   "cell_type": "code",
   "execution_count": 12,
   "id": "9e3f5e91-7e2c-4c49-8049-593c2222399e",
   "metadata": {},
   "outputs": [
    {
     "data": {
      "text/plain": [
       "'/Users/xiaoxi/Documents/self/cv/to_recruter/dhwanne/Endeavour_group/interview/EDG_test/mlrun/mlrun_artifacts'"
      ]
     },
     "execution_count": 12,
     "metadata": {},
     "output_type": "execute_result"
    }
   ],
   "source": [
    "default_artifact_root = mlrun_artifacts\n",
    "mlrun_artifacts"
   ]
  },
  {
   "cell_type": "code",
   "execution_count": null,
   "id": "e60ef5e0-6dbb-467e-b37e-5417cc319ee9",
   "metadata": {},
   "outputs": [
    {
     "name": "stdout",
     "output_type": "stream",
     "text": [
      "[2022-08-06 22:52:11 +1000] [61797] [INFO] Starting gunicorn 20.1.0\n",
      "[2022-08-06 22:52:11 +1000] [61797] [INFO] Listening at: http://127.0.0.1:5001 (61797)\n",
      "[2022-08-06 22:52:11 +1000] [61797] [INFO] Using worker: sync\n",
      "[2022-08-06 22:52:11 +1000] [61799] [INFO] Booting worker with pid: 61799\n",
      "[2022-08-06 22:52:11 +1000] [61800] [INFO] Booting worker with pid: 61800\n",
      "[2022-08-06 22:52:11 +1000] [61801] [INFO] Booting worker with pid: 61801\n",
      "[2022-08-06 22:52:11 +1000] [61802] [INFO] Booting worker with pid: 61802\n",
      "[2022-08-11 21:03:00 +1000] [61797] [CRITICAL] WORKER TIMEOUT (pid:61799)\n",
      "[2022-08-11 21:03:00 +1000] [61797] [CRITICAL] WORKER TIMEOUT (pid:61800)\n",
      "[2022-08-11 21:03:00 +1000] [61797] [CRITICAL] WORKER TIMEOUT (pid:61801)\n",
      "[2022-08-11 21:03:00 +1000] [61797] [CRITICAL] WORKER TIMEOUT (pid:61802)\n",
      "[2022-08-11 21:03:00 +1000] [61800] [INFO] Worker exiting (pid: 61800)\n",
      "[2022-08-11 21:03:00 +1000] [61802] [INFO] Worker exiting (pid: 61802)\n",
      "[2022-08-11 21:03:00 +1000] [61799] [INFO] Worker exiting (pid: 61799)\n",
      "[2022-08-11 21:03:00 +1000] [61801] [INFO] Worker exiting (pid: 61801)\n",
      "[2022-08-11 21:03:00 +1000] [61797] [WARNING] Worker with pid 61802 was terminated due to signal 9\n",
      "[2022-08-11 21:03:00 +1000] [61797] [WARNING] Worker with pid 61800 was terminated due to signal 9\n",
      "[2022-08-11 21:03:00 +1000] [61797] [WARNING] Worker with pid 61799 was terminated due to signal 9\n",
      "[2022-08-11 21:03:00 +1000] [35573] [INFO] Booting worker with pid: 35573\n",
      "[2022-08-11 21:03:00 +1000] [61797] [WARNING] Worker with pid 61801 was terminated due to signal 9\n",
      "[2022-08-11 21:03:00 +1000] [35574] [INFO] Booting worker with pid: 35574\n",
      "[2022-08-11 21:03:00 +1000] [35575] [INFO] Booting worker with pid: 35575\n",
      "[2022-08-11 21:03:01 +1000] [35576] [INFO] Booting worker with pid: 35576\n"
     ]
    }
   ],
   "source": [
    "!mlflow server --backend-store-uri $mlrun_db \\\n",
    "            --default-artifact-root $mlrun_artifacts \\\n",
    "            --host 127.0.0.1 \\\n",
    "            --port 5001"
   ]
  }
 ],
 "metadata": {
  "kernelspec": {
   "display_name": "Python 3 (ipykernel)",
   "language": "python",
   "name": "python3"
  },
  "language_info": {
   "codemirror_mode": {
    "name": "ipython",
    "version": 3
   },
   "file_extension": ".py",
   "mimetype": "text/x-python",
   "name": "python",
   "nbconvert_exporter": "python",
   "pygments_lexer": "ipython3",
   "version": "3.8.13"
  }
 },
 "nbformat": 4,
 "nbformat_minor": 5
}
